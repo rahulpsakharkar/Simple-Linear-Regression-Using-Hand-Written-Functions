{
 "cells": [
  {
   "cell_type": "code",
   "execution_count": 1,
   "metadata": {},
   "outputs": [],
   "source": [
    "import numpy as np\n",
    "import pandas as pd"
   ]
  },
  {
   "cell_type": "code",
   "execution_count": 2,
   "metadata": {},
   "outputs": [],
   "source": [
    "dtype_dict = {'bathrooms':float, 'waterfront':int, 'sqft_above':int, 'sqft_living15':float, 'grade':int,\n",
    "              'yr_renovated':int, 'price':float, 'bedrooms':float, 'zipcode':str, 'long':float,\n",
    "              'sqft_lot15':float, 'sqft_living':float, 'floors':str, 'condition':int, 'lat':float,\n",
    "              'date':str, 'sqft_basement':int, 'yr_built':int, 'id':str, 'sqft_lot':int, 'view':int}"
   ]
  },
  {
   "cell_type": "code",
   "execution_count": 3,
   "metadata": {},
   "outputs": [],
   "source": [
    "# 1. Import King County House Sales data.\n",
    "# 2. Data is already split in train and test.\n",
    "\n",
    "kc_train = pd.read_csv('kc_house_train_data.csv', dtype = dtype_dict)\n",
    "kc_test = pd.read_csv('kc_house_test_data.csv', dtype = dtype_dict)"
   ]
  },
  {
   "cell_type": "code",
   "execution_count": 4,
   "metadata": {},
   "outputs": [
    {
     "data": {
      "text/html": [
       "<div>\n",
       "<style scoped>\n",
       "    .dataframe tbody tr th:only-of-type {\n",
       "        vertical-align: middle;\n",
       "    }\n",
       "\n",
       "    .dataframe tbody tr th {\n",
       "        vertical-align: top;\n",
       "    }\n",
       "\n",
       "    .dataframe thead th {\n",
       "        text-align: right;\n",
       "    }\n",
       "</style>\n",
       "<table border=\"1\" class=\"dataframe\">\n",
       "  <thead>\n",
       "    <tr style=\"text-align: right;\">\n",
       "      <th></th>\n",
       "      <th>id</th>\n",
       "      <th>date</th>\n",
       "      <th>price</th>\n",
       "      <th>bedrooms</th>\n",
       "      <th>bathrooms</th>\n",
       "      <th>sqft_living</th>\n",
       "      <th>sqft_lot</th>\n",
       "      <th>floors</th>\n",
       "      <th>waterfront</th>\n",
       "      <th>view</th>\n",
       "      <th>...</th>\n",
       "      <th>grade</th>\n",
       "      <th>sqft_above</th>\n",
       "      <th>sqft_basement</th>\n",
       "      <th>yr_built</th>\n",
       "      <th>yr_renovated</th>\n",
       "      <th>zipcode</th>\n",
       "      <th>lat</th>\n",
       "      <th>long</th>\n",
       "      <th>sqft_living15</th>\n",
       "      <th>sqft_lot15</th>\n",
       "    </tr>\n",
       "  </thead>\n",
       "  <tbody>\n",
       "    <tr>\n",
       "      <th>0</th>\n",
       "      <td>7129300520</td>\n",
       "      <td>20141013T000000</td>\n",
       "      <td>221900.0</td>\n",
       "      <td>3.0</td>\n",
       "      <td>1.00</td>\n",
       "      <td>1180.0</td>\n",
       "      <td>5650</td>\n",
       "      <td>1</td>\n",
       "      <td>0</td>\n",
       "      <td>0</td>\n",
       "      <td>...</td>\n",
       "      <td>7</td>\n",
       "      <td>1180</td>\n",
       "      <td>0</td>\n",
       "      <td>1955</td>\n",
       "      <td>0</td>\n",
       "      <td>98178</td>\n",
       "      <td>47.5112</td>\n",
       "      <td>-122.257</td>\n",
       "      <td>1340.0</td>\n",
       "      <td>5650.0</td>\n",
       "    </tr>\n",
       "    <tr>\n",
       "      <th>1</th>\n",
       "      <td>6414100192</td>\n",
       "      <td>20141209T000000</td>\n",
       "      <td>538000.0</td>\n",
       "      <td>3.0</td>\n",
       "      <td>2.25</td>\n",
       "      <td>2570.0</td>\n",
       "      <td>7242</td>\n",
       "      <td>2</td>\n",
       "      <td>0</td>\n",
       "      <td>0</td>\n",
       "      <td>...</td>\n",
       "      <td>7</td>\n",
       "      <td>2170</td>\n",
       "      <td>400</td>\n",
       "      <td>1951</td>\n",
       "      <td>1991</td>\n",
       "      <td>98125</td>\n",
       "      <td>47.7210</td>\n",
       "      <td>-122.319</td>\n",
       "      <td>1690.0</td>\n",
       "      <td>7639.0</td>\n",
       "    </tr>\n",
       "    <tr>\n",
       "      <th>2</th>\n",
       "      <td>5631500400</td>\n",
       "      <td>20150225T000000</td>\n",
       "      <td>180000.0</td>\n",
       "      <td>2.0</td>\n",
       "      <td>1.00</td>\n",
       "      <td>770.0</td>\n",
       "      <td>10000</td>\n",
       "      <td>1</td>\n",
       "      <td>0</td>\n",
       "      <td>0</td>\n",
       "      <td>...</td>\n",
       "      <td>6</td>\n",
       "      <td>770</td>\n",
       "      <td>0</td>\n",
       "      <td>1933</td>\n",
       "      <td>0</td>\n",
       "      <td>98028</td>\n",
       "      <td>47.7379</td>\n",
       "      <td>-122.233</td>\n",
       "      <td>2720.0</td>\n",
       "      <td>8062.0</td>\n",
       "    </tr>\n",
       "    <tr>\n",
       "      <th>3</th>\n",
       "      <td>2487200875</td>\n",
       "      <td>20141209T000000</td>\n",
       "      <td>604000.0</td>\n",
       "      <td>4.0</td>\n",
       "      <td>3.00</td>\n",
       "      <td>1960.0</td>\n",
       "      <td>5000</td>\n",
       "      <td>1</td>\n",
       "      <td>0</td>\n",
       "      <td>0</td>\n",
       "      <td>...</td>\n",
       "      <td>7</td>\n",
       "      <td>1050</td>\n",
       "      <td>910</td>\n",
       "      <td>1965</td>\n",
       "      <td>0</td>\n",
       "      <td>98136</td>\n",
       "      <td>47.5208</td>\n",
       "      <td>-122.393</td>\n",
       "      <td>1360.0</td>\n",
       "      <td>5000.0</td>\n",
       "    </tr>\n",
       "    <tr>\n",
       "      <th>4</th>\n",
       "      <td>1954400510</td>\n",
       "      <td>20150218T000000</td>\n",
       "      <td>510000.0</td>\n",
       "      <td>3.0</td>\n",
       "      <td>2.00</td>\n",
       "      <td>1680.0</td>\n",
       "      <td>8080</td>\n",
       "      <td>1</td>\n",
       "      <td>0</td>\n",
       "      <td>0</td>\n",
       "      <td>...</td>\n",
       "      <td>8</td>\n",
       "      <td>1680</td>\n",
       "      <td>0</td>\n",
       "      <td>1987</td>\n",
       "      <td>0</td>\n",
       "      <td>98074</td>\n",
       "      <td>47.6168</td>\n",
       "      <td>-122.045</td>\n",
       "      <td>1800.0</td>\n",
       "      <td>7503.0</td>\n",
       "    </tr>\n",
       "  </tbody>\n",
       "</table>\n",
       "<p>5 rows × 21 columns</p>\n",
       "</div>"
      ],
      "text/plain": [
       "           id             date     price  bedrooms  bathrooms  sqft_living  \\\n",
       "0  7129300520  20141013T000000  221900.0       3.0       1.00       1180.0   \n",
       "1  6414100192  20141209T000000  538000.0       3.0       2.25       2570.0   \n",
       "2  5631500400  20150225T000000  180000.0       2.0       1.00        770.0   \n",
       "3  2487200875  20141209T000000  604000.0       4.0       3.00       1960.0   \n",
       "4  1954400510  20150218T000000  510000.0       3.0       2.00       1680.0   \n",
       "\n",
       "   sqft_lot floors  waterfront  view  ...  grade  sqft_above  sqft_basement  \\\n",
       "0      5650      1           0     0  ...      7        1180              0   \n",
       "1      7242      2           0     0  ...      7        2170            400   \n",
       "2     10000      1           0     0  ...      6         770              0   \n",
       "3      5000      1           0     0  ...      7        1050            910   \n",
       "4      8080      1           0     0  ...      8        1680              0   \n",
       "\n",
       "   yr_built  yr_renovated  zipcode      lat     long  sqft_living15  \\\n",
       "0      1955             0    98178  47.5112 -122.257         1340.0   \n",
       "1      1951          1991    98125  47.7210 -122.319         1690.0   \n",
       "2      1933             0    98028  47.7379 -122.233         2720.0   \n",
       "3      1965             0    98136  47.5208 -122.393         1360.0   \n",
       "4      1987             0    98074  47.6168 -122.045         1800.0   \n",
       "\n",
       "   sqft_lot15  \n",
       "0      5650.0  \n",
       "1      7639.0  \n",
       "2      8062.0  \n",
       "3      5000.0  \n",
       "4      7503.0  \n",
       "\n",
       "[5 rows x 21 columns]"
      ]
     },
     "execution_count": 4,
     "metadata": {},
     "output_type": "execute_result"
    }
   ],
   "source": [
    "kc_train.head()"
   ]
  },
  {
   "cell_type": "code",
   "execution_count": 5,
   "metadata": {},
   "outputs": [
    {
     "name": "stdout",
     "output_type": "stream",
     "text": [
      "0\n",
      "0\n"
     ]
    }
   ],
   "source": [
    "# Data is clean\n",
    "print(kc_train.isnull().sum().sum())\n",
    "print(kc_test.isnull().sum().sum())"
   ]
  },
  {
   "cell_type": "code",
   "execution_count": 6,
   "metadata": {},
   "outputs": [
    {
     "data": {
      "text/html": [
       "<div>\n",
       "<style scoped>\n",
       "    .dataframe tbody tr th:only-of-type {\n",
       "        vertical-align: middle;\n",
       "    }\n",
       "\n",
       "    .dataframe tbody tr th {\n",
       "        vertical-align: top;\n",
       "    }\n",
       "\n",
       "    .dataframe thead th {\n",
       "        text-align: right;\n",
       "    }\n",
       "</style>\n",
       "<table border=\"1\" class=\"dataframe\">\n",
       "  <thead>\n",
       "    <tr style=\"text-align: right;\">\n",
       "      <th></th>\n",
       "      <th>count</th>\n",
       "      <th>mean</th>\n",
       "      <th>std</th>\n",
       "      <th>min</th>\n",
       "      <th>25%</th>\n",
       "      <th>50%</th>\n",
       "      <th>75%</th>\n",
       "      <th>max</th>\n",
       "    </tr>\n",
       "  </thead>\n",
       "  <tbody>\n",
       "    <tr>\n",
       "      <th>price</th>\n",
       "      <td>17384.0</td>\n",
       "      <td>539366.627934</td>\n",
       "      <td>369691.178858</td>\n",
       "      <td>75000.0000</td>\n",
       "      <td>320000.00000</td>\n",
       "      <td>450000.0000</td>\n",
       "      <td>640000.000000</td>\n",
       "      <td>7.700000e+06</td>\n",
       "    </tr>\n",
       "    <tr>\n",
       "      <th>bedrooms</th>\n",
       "      <td>17384.0</td>\n",
       "      <td>3.369363</td>\n",
       "      <td>0.906468</td>\n",
       "      <td>0.0000</td>\n",
       "      <td>3.00000</td>\n",
       "      <td>3.0000</td>\n",
       "      <td>4.000000</td>\n",
       "      <td>1.000000e+01</td>\n",
       "    </tr>\n",
       "    <tr>\n",
       "      <th>bathrooms</th>\n",
       "      <td>17384.0</td>\n",
       "      <td>2.115048</td>\n",
       "      <td>0.771783</td>\n",
       "      <td>0.0000</td>\n",
       "      <td>1.75000</td>\n",
       "      <td>2.2500</td>\n",
       "      <td>2.500000</td>\n",
       "      <td>8.000000e+00</td>\n",
       "    </tr>\n",
       "    <tr>\n",
       "      <th>sqft_living</th>\n",
       "      <td>17384.0</td>\n",
       "      <td>2080.029510</td>\n",
       "      <td>921.630888</td>\n",
       "      <td>290.0000</td>\n",
       "      <td>1420.00000</td>\n",
       "      <td>1910.0000</td>\n",
       "      <td>2550.000000</td>\n",
       "      <td>1.354000e+04</td>\n",
       "    </tr>\n",
       "    <tr>\n",
       "      <th>sqft_lot</th>\n",
       "      <td>17384.0</td>\n",
       "      <td>15091.911240</td>\n",
       "      <td>41459.272327</td>\n",
       "      <td>520.0000</td>\n",
       "      <td>5049.50000</td>\n",
       "      <td>7616.0000</td>\n",
       "      <td>10665.250000</td>\n",
       "      <td>1.651359e+06</td>\n",
       "    </tr>\n",
       "    <tr>\n",
       "      <th>waterfront</th>\n",
       "      <td>17384.0</td>\n",
       "      <td>0.007651</td>\n",
       "      <td>0.087136</td>\n",
       "      <td>0.0000</td>\n",
       "      <td>0.00000</td>\n",
       "      <td>0.0000</td>\n",
       "      <td>0.000000</td>\n",
       "      <td>1.000000e+00</td>\n",
       "    </tr>\n",
       "    <tr>\n",
       "      <th>view</th>\n",
       "      <td>17384.0</td>\n",
       "      <td>0.236079</td>\n",
       "      <td>0.768008</td>\n",
       "      <td>0.0000</td>\n",
       "      <td>0.00000</td>\n",
       "      <td>0.0000</td>\n",
       "      <td>0.000000</td>\n",
       "      <td>4.000000e+00</td>\n",
       "    </tr>\n",
       "    <tr>\n",
       "      <th>condition</th>\n",
       "      <td>17384.0</td>\n",
       "      <td>3.410780</td>\n",
       "      <td>0.649792</td>\n",
       "      <td>1.0000</td>\n",
       "      <td>3.00000</td>\n",
       "      <td>3.0000</td>\n",
       "      <td>4.000000</td>\n",
       "      <td>5.000000e+00</td>\n",
       "    </tr>\n",
       "    <tr>\n",
       "      <th>grade</th>\n",
       "      <td>17384.0</td>\n",
       "      <td>7.655028</td>\n",
       "      <td>1.169818</td>\n",
       "      <td>1.0000</td>\n",
       "      <td>7.00000</td>\n",
       "      <td>7.0000</td>\n",
       "      <td>8.000000</td>\n",
       "      <td>1.300000e+01</td>\n",
       "    </tr>\n",
       "    <tr>\n",
       "      <th>sqft_above</th>\n",
       "      <td>17384.0</td>\n",
       "      <td>1787.844512</td>\n",
       "      <td>827.107595</td>\n",
       "      <td>290.0000</td>\n",
       "      <td>1200.00000</td>\n",
       "      <td>1560.0000</td>\n",
       "      <td>2210.000000</td>\n",
       "      <td>9.410000e+03</td>\n",
       "    </tr>\n",
       "    <tr>\n",
       "      <th>sqft_basement</th>\n",
       "      <td>17384.0</td>\n",
       "      <td>292.184998</td>\n",
       "      <td>444.404136</td>\n",
       "      <td>0.0000</td>\n",
       "      <td>0.00000</td>\n",
       "      <td>0.0000</td>\n",
       "      <td>560.000000</td>\n",
       "      <td>4.820000e+03</td>\n",
       "    </tr>\n",
       "    <tr>\n",
       "      <th>yr_built</th>\n",
       "      <td>17384.0</td>\n",
       "      <td>1971.152727</td>\n",
       "      <td>29.328722</td>\n",
       "      <td>1900.0000</td>\n",
       "      <td>1952.00000</td>\n",
       "      <td>1975.0000</td>\n",
       "      <td>1997.000000</td>\n",
       "      <td>2.015000e+03</td>\n",
       "    </tr>\n",
       "    <tr>\n",
       "      <th>yr_renovated</th>\n",
       "      <td>17384.0</td>\n",
       "      <td>83.107973</td>\n",
       "      <td>398.692283</td>\n",
       "      <td>0.0000</td>\n",
       "      <td>0.00000</td>\n",
       "      <td>0.0000</td>\n",
       "      <td>0.000000</td>\n",
       "      <td>2.015000e+03</td>\n",
       "    </tr>\n",
       "    <tr>\n",
       "      <th>lat</th>\n",
       "      <td>17384.0</td>\n",
       "      <td>47.559313</td>\n",
       "      <td>0.138703</td>\n",
       "      <td>47.1593</td>\n",
       "      <td>47.46865</td>\n",
       "      <td>47.5714</td>\n",
       "      <td>47.677625</td>\n",
       "      <td>4.777760e+01</td>\n",
       "    </tr>\n",
       "    <tr>\n",
       "      <th>long</th>\n",
       "      <td>17384.0</td>\n",
       "      <td>-122.213281</td>\n",
       "      <td>0.140906</td>\n",
       "      <td>-122.5190</td>\n",
       "      <td>-122.32800</td>\n",
       "      <td>-122.2290</td>\n",
       "      <td>-122.125000</td>\n",
       "      <td>-1.213150e+02</td>\n",
       "    </tr>\n",
       "    <tr>\n",
       "      <th>sqft_living15</th>\n",
       "      <td>17384.0</td>\n",
       "      <td>1985.994995</td>\n",
       "      <td>686.512835</td>\n",
       "      <td>399.0000</td>\n",
       "      <td>1490.00000</td>\n",
       "      <td>1840.0000</td>\n",
       "      <td>2360.000000</td>\n",
       "      <td>6.210000e+03</td>\n",
       "    </tr>\n",
       "    <tr>\n",
       "      <th>sqft_lot15</th>\n",
       "      <td>17384.0</td>\n",
       "      <td>12776.380867</td>\n",
       "      <td>27175.730523</td>\n",
       "      <td>651.0000</td>\n",
       "      <td>5100.00000</td>\n",
       "      <td>7620.0000</td>\n",
       "      <td>10065.250000</td>\n",
       "      <td>8.712000e+05</td>\n",
       "    </tr>\n",
       "  </tbody>\n",
       "</table>\n",
       "</div>"
      ],
      "text/plain": [
       "                 count           mean            std         min  \\\n",
       "price          17384.0  539366.627934  369691.178858  75000.0000   \n",
       "bedrooms       17384.0       3.369363       0.906468      0.0000   \n",
       "bathrooms      17384.0       2.115048       0.771783      0.0000   \n",
       "sqft_living    17384.0    2080.029510     921.630888    290.0000   \n",
       "sqft_lot       17384.0   15091.911240   41459.272327    520.0000   \n",
       "waterfront     17384.0       0.007651       0.087136      0.0000   \n",
       "view           17384.0       0.236079       0.768008      0.0000   \n",
       "condition      17384.0       3.410780       0.649792      1.0000   \n",
       "grade          17384.0       7.655028       1.169818      1.0000   \n",
       "sqft_above     17384.0    1787.844512     827.107595    290.0000   \n",
       "sqft_basement  17384.0     292.184998     444.404136      0.0000   \n",
       "yr_built       17384.0    1971.152727      29.328722   1900.0000   \n",
       "yr_renovated   17384.0      83.107973     398.692283      0.0000   \n",
       "lat            17384.0      47.559313       0.138703     47.1593   \n",
       "long           17384.0    -122.213281       0.140906   -122.5190   \n",
       "sqft_living15  17384.0    1985.994995     686.512835    399.0000   \n",
       "sqft_lot15     17384.0   12776.380867   27175.730523    651.0000   \n",
       "\n",
       "                        25%          50%            75%           max  \n",
       "price          320000.00000  450000.0000  640000.000000  7.700000e+06  \n",
       "bedrooms            3.00000       3.0000       4.000000  1.000000e+01  \n",
       "bathrooms           1.75000       2.2500       2.500000  8.000000e+00  \n",
       "sqft_living      1420.00000    1910.0000    2550.000000  1.354000e+04  \n",
       "sqft_lot         5049.50000    7616.0000   10665.250000  1.651359e+06  \n",
       "waterfront          0.00000       0.0000       0.000000  1.000000e+00  \n",
       "view                0.00000       0.0000       0.000000  4.000000e+00  \n",
       "condition           3.00000       3.0000       4.000000  5.000000e+00  \n",
       "grade               7.00000       7.0000       8.000000  1.300000e+01  \n",
       "sqft_above       1200.00000    1560.0000    2210.000000  9.410000e+03  \n",
       "sqft_basement       0.00000       0.0000     560.000000  4.820000e+03  \n",
       "yr_built         1952.00000    1975.0000    1997.000000  2.015000e+03  \n",
       "yr_renovated        0.00000       0.0000       0.000000  2.015000e+03  \n",
       "lat                47.46865      47.5714      47.677625  4.777760e+01  \n",
       "long             -122.32800    -122.2290    -122.125000 -1.213150e+02  \n",
       "sqft_living15    1490.00000    1840.0000    2360.000000  6.210000e+03  \n",
       "sqft_lot15       5100.00000    7620.0000   10065.250000  8.712000e+05  "
      ]
     },
     "execution_count": 6,
     "metadata": {},
     "output_type": "execute_result"
    }
   ],
   "source": [
    "kc_train.describe().T"
   ]
  },
  {
   "cell_type": "code",
   "execution_count": 7,
   "metadata": {},
   "outputs": [],
   "source": [
    "# 3. Write a generic function that accepts a column of data ‘input_feature’ and another column ‘output’\n",
    "#    and returns the Simple Linear Regression parameters ‘intercept’ and ‘slope’.\n",
    "#    Use the closed form solution to calculate the slope and intercept.\n",
    "\n",
    "def simple_linear_regression(input_feature, output):\n",
    "    n = len(input_feature)\n",
    "    sum_of_x = np.sum(input_feature)\n",
    "    sum_of_y = np.sum(output)\n",
    "    sum_of_x_mul_y = np.sum(input_feature*output)\n",
    "    sum_of_x_square = np.sum(pow(input_feature,2))\n",
    "    mean_of_y = np.mean(output)\n",
    "    mean_of_x = np.mean(input_feature)\n",
    "    \n",
    "    numerator = sum_of_x_mul_y - (1/n)*(sum_of_x * sum_of_y)\n",
    "    denominator = sum_of_x_square - (1/n)*(sum_of_x * sum_of_x)\n",
    "    \n",
    "    slope = numerator/denominator\n",
    "    intercept = (mean_of_y) - slope * (mean_of_x)\n",
    "    \n",
    "    return (intercept, slope)"
   ]
  },
  {
   "cell_type": "code",
   "execution_count": 8,
   "metadata": {},
   "outputs": [],
   "source": [
    "# Above function can also be implemented as follows by dividing both sides by (1/n).\n",
    "\n",
    "def simple_linear_regression2(input_feature, output):\n",
    "    n = len(input_feature)\n",
    "    mean_of_x_mul_y = np.mean((input_feature * output))\n",
    "    mean_of_x = np.mean(input_feature)\n",
    "    mean_of_y = np.mean(output)\n",
    "    mean_of_x_square = np.mean(pow(input_feature,2))\n",
    "    \n",
    "    numerator = mean_of_x_mul_y - (mean_of_x*mean_of_y)\n",
    "    denominator = mean_of_x_square - (mean_of_x*mean_of_x)\n",
    "    \n",
    "    slope = numerator/denominator\n",
    "    intercept = (mean_of_y) - slope * (mean_of_x)\n",
    "    \n",
    "    return (intercept, slope)"
   ]
  },
  {
   "cell_type": "code",
   "execution_count": 9,
   "metadata": {},
   "outputs": [
    {
     "name": "stdout",
     "output_type": "stream",
     "text": [
      "-47116.07907289418 281.9588396303426\n"
     ]
    }
   ],
   "source": [
    "# 4. Use simple_linear_regression function to calculate the estimated slope and intercept on the training data \n",
    "#    to predict ‘price’ given ‘sqft_living’. e.g. in python with SFrames using:\n",
    "\n",
    "squarefeet_input_feature = kc_train['sqft_living']\n",
    "squarefeet_output = kc_train['price']\n",
    "\n",
    "(squarefeet_intercept, squarefeet_slope) = simple_linear_regression(squarefeet_input_feature, squarefeet_output)\n",
    "print(squarefeet_intercept, squarefeet_slope)"
   ]
  },
  {
   "cell_type": "code",
   "execution_count": 10,
   "metadata": {},
   "outputs": [
    {
     "data": {
      "text/plain": [
       "(-47116.07907289488, 281.95883963034294)"
      ]
     },
     "execution_count": 10,
     "metadata": {},
     "output_type": "execute_result"
    }
   ],
   "source": [
    "# Almost same output cab be obtained using simple_linear_regression2 function\n",
    "simple_linear_regression2(squarefeet_input_feature, squarefeet_output)"
   ]
  },
  {
   "cell_type": "code",
   "execution_count": 11,
   "metadata": {},
   "outputs": [],
   "source": [
    "# 5. Write a function that accepts a column of data ‘input_feature’, the ‘slope’, and the ‘intercept’,\n",
    "#    and returns a column of predictions ‘predicted_output’ for each entry in the input column.\n",
    "\n",
    "def get_regression_predictions(input_feature, intercept, slope):\n",
    "    predicted_output = intercept + slope * input_feature\n",
    "    return (predicted_output)"
   ]
  },
  {
   "cell_type": "code",
   "execution_count": 12,
   "metadata": {},
   "outputs": [
    {
     "data": {
      "text/plain": [
       "700074.8459475137"
      ]
     },
     "execution_count": 12,
     "metadata": {},
     "output_type": "execute_result"
    }
   ],
   "source": [
    "# 6. Using Slope and Intercept from (4), What is the predicted price for a house with 2650 sqft?\n",
    "price_of_2650_sqft_house = get_regression_predictions(2650, squarefeet_intercept, squarefeet_slope)\n",
    "price_of_2650_sqft_house"
   ]
  },
  {
   "cell_type": "code",
   "execution_count": 13,
   "metadata": {},
   "outputs": [],
   "source": [
    "# 7. Write a function that accepts column of data: ‘input_feature’, and ‘output’\n",
    "#    and the regression parameters ‘slope’ and ‘intercept’ and outputs the Residual Sum of Squares (RSS).\n",
    "\n",
    "def get_residual_sum_of_squares(input_feature, output, intercept, slope):\n",
    "    predicted_output = intercept + slope * input_feature\n",
    "    RSS = np.sum(pow((output - predicted_output), 2))\n",
    "    \n",
    "    return RSS"
   ]
  },
  {
   "cell_type": "code",
   "execution_count": 14,
   "metadata": {},
   "outputs": [
    {
     "data": {
      "text/plain": [
       "1201918354177283.0"
      ]
     },
     "execution_count": 14,
     "metadata": {},
     "output_type": "execute_result"
    }
   ],
   "source": [
    "# 8. According to function get_residual_sum_of_squares and the slope and intercept from (4),\n",
    "#    What is the RSS for the simple linear regression using squarefeet to predict prices on TRAINING data?\n",
    "\n",
    "get_residual_sum_of_squares(squarefeet_input_feature, squarefeet_output, squarefeet_intercept, squarefeet_slope)"
   ]
  },
  {
   "cell_type": "code",
   "execution_count": 15,
   "metadata": {},
   "outputs": [],
   "source": [
    "# 9. Note that although we estimated the regression slope and intercept in order to predict the output from the input,\n",
    "#    since this is a simple linear relationship with only two variables we can invert the linear function\n",
    "#    to estimate the input given the output!\n",
    "\n",
    "def inverse_regression_predictions(output, intercept, slope):\n",
    "    estimated_input = (output - intercept)/slope\n",
    "\n",
    "    return estimated_input"
   ]
  },
  {
   "cell_type": "code",
   "execution_count": 16,
   "metadata": {},
   "outputs": [
    {
     "data": {
      "text/plain": [
       "3004.3962451522766"
      ]
     },
     "execution_count": 16,
     "metadata": {},
     "output_type": "execute_result"
    }
   ],
   "source": [
    "# 10. According to function inverse_regression_predictions and the regression slope and intercept from (3),\n",
    "#     what is the estimated square-feet for a house costing $800,000?\n",
    "    \n",
    "estimated_squarefeet_for_a_house_costing_800000 = inverse_regression_predictions(800000, squarefeet_intercept, squarefeet_slope)\n",
    "estimated_squarefeet_for_a_house_costing_800000"
   ]
  },
  {
   "cell_type": "code",
   "execution_count": 17,
   "metadata": {},
   "outputs": [
    {
     "name": "stdout",
     "output_type": "stream",
     "text": [
      "109473.17762295867 127588.9529339881\n"
     ]
    }
   ],
   "source": [
    "# 11. Instead of using ‘sqft_living’ to estimate prices we could use ‘bedrooms’ (count of the #bedrooms in the house)\n",
    "#     to estimate prices. Using the function from (3), calculate the Simple Linear Regression slope and intercept\n",
    "#     for estimating price based on bedrooms.\n",
    "\n",
    "(bedroom_intercept, bedroom_slope) = simple_linear_regression(kc_train['bedrooms'], kc_train['price'])\n",
    "print(bedroom_intercept, bedroom_slope)"
   ]
  },
  {
   "cell_type": "code",
   "execution_count": 18,
   "metadata": {},
   "outputs": [
    {
     "name": "stdout",
     "output_type": "stream",
     "text": [
      "275402933617812.12 493364585960301.0\n"
     ]
    }
   ],
   "source": [
    "# 12. Now that we have 2 different models compute the RSS from BOTH models on TEST data.\n",
    "\n",
    "RSS_square_feet_model = get_residual_sum_of_squares(kc_test['sqft_living'], kc_test['price'],\n",
    "                                                    squarefeet_intercept, squarefeet_slope)\n",
    "RSS_bedrooms_model = get_residual_sum_of_squares(kc_test['bedrooms'], kc_test['price'],\n",
    "                                                 bedroom_intercept, bedroom_slope)\n",
    "print(RSS_square_feet_model, RSS_bedrooms_model)"
   ]
  },
  {
   "cell_type": "code",
   "execution_count": 19,
   "metadata": {},
   "outputs": [
    {
     "name": "stdout",
     "output_type": "stream",
     "text": [
      "RSS_square_feet_model has lowest RSS on TEST data. Hence this is best model.\n"
     ]
    }
   ],
   "source": [
    "# 13. Which model (square feet or bedrooms) has lowest RSS on TEST data?\n",
    "\n",
    "if RSS_square_feet_model > RSS_bedrooms_model:\n",
    "    print(\"RSS_bedrooms_model has lowest RSS on TEST data. Hence this is best model.\")\n",
    "else:\n",
    "    print(\"RSS_square_feet_model has lowest RSS on TEST data. Hence this is best model.\")"
   ]
  }
 ],
 "metadata": {
  "kernelspec": {
   "display_name": "Python 3",
   "language": "python",
   "name": "python3"
  },
  "language_info": {
   "codemirror_mode": {
    "name": "ipython",
    "version": 3
   },
   "file_extension": ".py",
   "mimetype": "text/x-python",
   "name": "python",
   "nbconvert_exporter": "python",
   "pygments_lexer": "ipython3",
   "version": "3.8.5"
  }
 },
 "nbformat": 4,
 "nbformat_minor": 4
}
